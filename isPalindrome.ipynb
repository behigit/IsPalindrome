{
 "cells": [
  {
   "cell_type": "code",
   "execution_count": 1,
   "metadata": {
    "collapsed": false
   },
   "outputs": [
    {
     "name": "stdout",
     "output_type": "stream",
     "text": [
      "aab\n",
      "False\n",
      "False\n"
     ]
    }
   ],
   "source": [
    "def isPalindrome(s):\n",
    "    \n",
    "    if s==\"\":\n",
    "        return True\n",
    "    for i in range(len(s)/2):\n",
    "        if s[i]!=s[len(s)-i-1]:\n",
    "            return False\n",
    "    return True\n",
    "\n",
    "def isPalindromeRec(s):\n",
    "    if len(s)<=1:\n",
    "        return True\n",
    "    else:\n",
    "        return (s[0] == s[len(s)-1] and isPalindromeRec(s[2:]))\n",
    "    \n",
    "import re\n",
    "import string\n",
    "s = \"a    ab\"\n",
    "#s = \"\".join(s.split(\".\"))\n",
    "\n",
    "#s2=re.search(r'[a-z,A-Z]*', s)\n",
    "#print s2.group(0)\n",
    "for c in string.punctuation:\n",
    "        s=s.replace(c,\"\")\n",
    "s=s.lower()\n",
    "s = \"\".join(s.split(\" \"))\n",
    "print s\n",
    "print isPalindrome(s)\n",
    "print isPalindromeRec(s)"
   ]
  },
  {
   "cell_type": "code",
   "execution_count": null,
   "metadata": {
    "collapsed": true
   },
   "outputs": [],
   "source": []
  }
 ],
 "metadata": {
  "kernelspec": {
   "display_name": "Python 2",
   "language": "python",
   "name": "python2"
  },
  "language_info": {
   "codemirror_mode": {
    "name": "ipython",
    "version": 2
   },
   "file_extension": ".py",
   "mimetype": "text/x-python",
   "name": "python",
   "nbconvert_exporter": "python",
   "pygments_lexer": "ipython2",
   "version": "2.7.12"
  }
 },
 "nbformat": 4,
 "nbformat_minor": 1
}
